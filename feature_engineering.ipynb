{
 "cells": [
  {
   "cell_type": "code",
   "execution_count": 31,
   "metadata": {},
   "outputs": [],
   "source": [
    "import pandas as pd\n",
    "import warnings"
   ]
  },
  {
   "cell_type": "code",
   "execution_count": 32,
   "metadata": {},
   "outputs": [],
   "source": [
    "pd.set_option('display.max_columns', None)\n",
    "pd.options.mode.use_inf_as_na = True\n",
    "warnings.filterwarnings('ignore')"
   ]
  },
  {
   "cell_type": "code",
   "execution_count": 33,
   "metadata": {},
   "outputs": [],
   "source": [
    "data = pd.read_csv('G:\\IDS2018\\datasets\\Thursday-15-02-2018_TrafficForML_CICFlowMeter.csv')"
   ]
  },
  {
   "cell_type": "markdown",
   "metadata": {},
   "source": [
    "# 数据预处理"
   ]
  },
  {
   "cell_type": "code",
   "execution_count": 34,
   "metadata": {},
   "outputs": [],
   "source": [
    "numerical_fea = list(data.select_dtypes(exclude=['object']).columns)\n",
    "category_fea = list(filter(lambda x: x not in numerical_fea, list(data.columns)))"
   ]
  },
  {
   "cell_type": "code",
   "execution_count": 35,
   "metadata": {},
   "outputs": [],
   "source": [
    "def get_numerical_serial_fea(data, feas):\n",
    "    numerical_serial_fea = []\n",
    "    numerical_noserial_fea = []\n",
    "    for fea in feas:\n",
    "        temp = data[fea].nunique()\n",
    "        if temp <= 10:\n",
    "            numerical_noserial_fea.append(fea)\n",
    "        else:\n",
    "            numerical_serial_fea.append(fea)\n",
    "    return numerical_serial_fea, numerical_noserial_fea\n",
    "numerical_serial_fea, numerical_noserial_fea = get_numerical_serial_fea(data, numerical_fea)"
   ]
  },
  {
   "cell_type": "code",
   "execution_count": 36,
   "metadata": {},
   "outputs": [
    {
     "data": {
      "text/plain": [
       "{'Dst Port': 0,\n",
       " 'Protocol': 0,\n",
       " 'Timestamp': 0,\n",
       " 'Flow Duration': 0,\n",
       " 'Tot Fwd Pkts': 0,\n",
       " 'Tot Bwd Pkts': 0,\n",
       " 'TotLen Fwd Pkts': 0,\n",
       " 'TotLen Bwd Pkts': 0,\n",
       " 'Fwd Pkt Len Max': 0,\n",
       " 'Fwd Pkt Len Min': 0,\n",
       " 'Fwd Pkt Len Mean': 0,\n",
       " 'Fwd Pkt Len Std': 0,\n",
       " 'Bwd Pkt Len Max': 0,\n",
       " 'Bwd Pkt Len Min': 0,\n",
       " 'Bwd Pkt Len Mean': 0,\n",
       " 'Bwd Pkt Len Std': 0,\n",
       " 'Flow Byts/s': 8027,\n",
       " 'Flow Pkts/s': 8027,\n",
       " 'Flow IAT Mean': 0,\n",
       " 'Flow IAT Std': 0,\n",
       " 'Flow IAT Max': 0,\n",
       " 'Flow IAT Min': 0,\n",
       " 'Fwd IAT Tot': 0,\n",
       " 'Fwd IAT Mean': 0,\n",
       " 'Fwd IAT Std': 0,\n",
       " 'Fwd IAT Max': 0,\n",
       " 'Fwd IAT Min': 0,\n",
       " 'Bwd IAT Tot': 0,\n",
       " 'Bwd IAT Mean': 0,\n",
       " 'Bwd IAT Std': 0,\n",
       " 'Bwd IAT Max': 0,\n",
       " 'Bwd IAT Min': 0,\n",
       " 'Fwd PSH Flags': 0,\n",
       " 'Bwd PSH Flags': 0,\n",
       " 'Fwd URG Flags': 0,\n",
       " 'Bwd URG Flags': 0,\n",
       " 'Fwd Header Len': 0,\n",
       " 'Bwd Header Len': 0,\n",
       " 'Fwd Pkts/s': 0,\n",
       " 'Bwd Pkts/s': 0,\n",
       " 'Pkt Len Min': 0,\n",
       " 'Pkt Len Max': 0,\n",
       " 'Pkt Len Mean': 0,\n",
       " 'Pkt Len Std': 0,\n",
       " 'Pkt Len Var': 0,\n",
       " 'FIN Flag Cnt': 0,\n",
       " 'SYN Flag Cnt': 0,\n",
       " 'RST Flag Cnt': 0,\n",
       " 'PSH Flag Cnt': 0,\n",
       " 'ACK Flag Cnt': 0,\n",
       " 'URG Flag Cnt': 0,\n",
       " 'CWE Flag Count': 0,\n",
       " 'ECE Flag Cnt': 0,\n",
       " 'Down/Up Ratio': 0,\n",
       " 'Pkt Size Avg': 0,\n",
       " 'Fwd Seg Size Avg': 0,\n",
       " 'Bwd Seg Size Avg': 0,\n",
       " 'Fwd Byts/b Avg': 0,\n",
       " 'Fwd Pkts/b Avg': 0,\n",
       " 'Fwd Blk Rate Avg': 0,\n",
       " 'Bwd Byts/b Avg': 0,\n",
       " 'Bwd Pkts/b Avg': 0,\n",
       " 'Bwd Blk Rate Avg': 0,\n",
       " 'Subflow Fwd Pkts': 0,\n",
       " 'Subflow Fwd Byts': 0,\n",
       " 'Subflow Bwd Pkts': 0,\n",
       " 'Subflow Bwd Byts': 0,\n",
       " 'Init Fwd Win Byts': 0,\n",
       " 'Init Bwd Win Byts': 0,\n",
       " 'Fwd Act Data Pkts': 0,\n",
       " 'Fwd Seg Size Min': 0,\n",
       " 'Active Mean': 0,\n",
       " 'Active Std': 0,\n",
       " 'Active Max': 0,\n",
       " 'Active Min': 0,\n",
       " 'Idle Mean': 0,\n",
       " 'Idle Std': 0,\n",
       " 'Idle Max': 0,\n",
       " 'Idle Min': 0,\n",
       " 'Label': 0}"
      ]
     },
     "execution_count": 36,
     "metadata": {},
     "output_type": "execute_result"
    }
   ],
   "source": [
    "data.isnull().sum().to_dict()"
   ]
  },
  {
   "cell_type": "code",
   "execution_count": 37,
   "metadata": {},
   "outputs": [],
   "source": [
    "data[numerical_serial_fea] = data[numerical_serial_fea].fillna(data[numerical_serial_fea].mean())"
   ]
  },
  {
   "cell_type": "code",
   "execution_count": 38,
   "metadata": {},
   "outputs": [
    {
     "data": {
      "text/plain": [
       "{'Dst Port': 0,\n",
       " 'Protocol': 0,\n",
       " 'Timestamp': 0,\n",
       " 'Flow Duration': 0,\n",
       " 'Tot Fwd Pkts': 0,\n",
       " 'Tot Bwd Pkts': 0,\n",
       " 'TotLen Fwd Pkts': 0,\n",
       " 'TotLen Bwd Pkts': 0,\n",
       " 'Fwd Pkt Len Max': 0,\n",
       " 'Fwd Pkt Len Min': 0,\n",
       " 'Fwd Pkt Len Mean': 0,\n",
       " 'Fwd Pkt Len Std': 0,\n",
       " 'Bwd Pkt Len Max': 0,\n",
       " 'Bwd Pkt Len Min': 0,\n",
       " 'Bwd Pkt Len Mean': 0,\n",
       " 'Bwd Pkt Len Std': 0,\n",
       " 'Flow Byts/s': 0,\n",
       " 'Flow Pkts/s': 0,\n",
       " 'Flow IAT Mean': 0,\n",
       " 'Flow IAT Std': 0,\n",
       " 'Flow IAT Max': 0,\n",
       " 'Flow IAT Min': 0,\n",
       " 'Fwd IAT Tot': 0,\n",
       " 'Fwd IAT Mean': 0,\n",
       " 'Fwd IAT Std': 0,\n",
       " 'Fwd IAT Max': 0,\n",
       " 'Fwd IAT Min': 0,\n",
       " 'Bwd IAT Tot': 0,\n",
       " 'Bwd IAT Mean': 0,\n",
       " 'Bwd IAT Std': 0,\n",
       " 'Bwd IAT Max': 0,\n",
       " 'Bwd IAT Min': 0,\n",
       " 'Fwd PSH Flags': 0,\n",
       " 'Bwd PSH Flags': 0,\n",
       " 'Fwd URG Flags': 0,\n",
       " 'Bwd URG Flags': 0,\n",
       " 'Fwd Header Len': 0,\n",
       " 'Bwd Header Len': 0,\n",
       " 'Fwd Pkts/s': 0,\n",
       " 'Bwd Pkts/s': 0,\n",
       " 'Pkt Len Min': 0,\n",
       " 'Pkt Len Max': 0,\n",
       " 'Pkt Len Mean': 0,\n",
       " 'Pkt Len Std': 0,\n",
       " 'Pkt Len Var': 0,\n",
       " 'FIN Flag Cnt': 0,\n",
       " 'SYN Flag Cnt': 0,\n",
       " 'RST Flag Cnt': 0,\n",
       " 'PSH Flag Cnt': 0,\n",
       " 'ACK Flag Cnt': 0,\n",
       " 'URG Flag Cnt': 0,\n",
       " 'CWE Flag Count': 0,\n",
       " 'ECE Flag Cnt': 0,\n",
       " 'Down/Up Ratio': 0,\n",
       " 'Pkt Size Avg': 0,\n",
       " 'Fwd Seg Size Avg': 0,\n",
       " 'Bwd Seg Size Avg': 0,\n",
       " 'Fwd Byts/b Avg': 0,\n",
       " 'Fwd Pkts/b Avg': 0,\n",
       " 'Fwd Blk Rate Avg': 0,\n",
       " 'Bwd Byts/b Avg': 0,\n",
       " 'Bwd Pkts/b Avg': 0,\n",
       " 'Bwd Blk Rate Avg': 0,\n",
       " 'Subflow Fwd Pkts': 0,\n",
       " 'Subflow Fwd Byts': 0,\n",
       " 'Subflow Bwd Pkts': 0,\n",
       " 'Subflow Bwd Byts': 0,\n",
       " 'Init Fwd Win Byts': 0,\n",
       " 'Init Bwd Win Byts': 0,\n",
       " 'Fwd Act Data Pkts': 0,\n",
       " 'Fwd Seg Size Min': 0,\n",
       " 'Active Mean': 0,\n",
       " 'Active Std': 0,\n",
       " 'Active Max': 0,\n",
       " 'Active Min': 0,\n",
       " 'Idle Mean': 0,\n",
       " 'Idle Std': 0,\n",
       " 'Idle Max': 0,\n",
       " 'Idle Min': 0,\n",
       " 'Label': 0}"
      ]
     },
     "execution_count": 38,
     "metadata": {},
     "output_type": "execute_result"
    }
   ],
   "source": [
    "data.isnull().sum().to_dict()"
   ]
  },
  {
   "cell_type": "code",
   "execution_count": 39,
   "metadata": {},
   "outputs": [],
   "source": [
    "data['Timestamp'] = pd.to_datetime(data['Timestamp'],format='%d/%m/%Y %H:%M:%S')"
   ]
  },
  {
   "cell_type": "code",
   "execution_count": 41,
   "metadata": {},
   "outputs": [],
   "source": [
    "data['Label'].replace(to_replace='Benign', value=0, inplace=True)\n",
    "data['Label'].replace(to_replace='DoS attacks-GoldenEye', value=1, inplace=True)\n",
    "data['Label'].replace(to_replace='DoS attacks-Slowloris', value=1, inplace=True)"
   ]
  },
  {
   "cell_type": "markdown",
   "metadata": {},
   "source": [
    "# 异常值处理"
   ]
  },
  {
   "cell_type": "code",
   "execution_count": null,
   "metadata": {},
   "outputs": [],
   "source": []
  }
 ],
 "metadata": {
  "kernelspec": {
   "display_name": "Python 3",
   "language": "python",
   "name": "python3"
  },
  "language_info": {
   "codemirror_mode": {
    "name": "ipython",
    "version": 3
   },
   "file_extension": ".py",
   "mimetype": "text/x-python",
   "name": "python",
   "nbconvert_exporter": "python",
   "pygments_lexer": "ipython3",
   "version": "3.7.9"
  }
 },
 "nbformat": 4,
 "nbformat_minor": 4
}
